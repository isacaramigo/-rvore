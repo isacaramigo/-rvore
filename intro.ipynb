{
 "cells": [
  {
   "cell_type": "code",
   "execution_count": null,
   "metadata": {},
   "outputs": [
    {
     "ename": "",
     "evalue": "",
     "output_type": "error",
     "traceback": [
      "\u001b[1;31mRunning cells with 'Python 3.12.5' requires the ipykernel package.\n",
      "\u001b[1;31mRun the following command to install 'ipykernel' into the Python environment. \n",
      "\u001b[1;31mCommand: 'c:/Users/Cliente/AppData/Local/Programs/Python/Python312/python.exe -m pip install ipykernel -U --user --force-reinstall'"
     ]
    }
   ],
   "source": [
    "#Busca em Porfundidade\n",
    "\n",
    "def crateNode(data):\n",
    "    return{ \"data\": data, \"left\": None, \"right\": None}\n",
    "\n",
    "def  insertNodeOnNode(fatherNode, childNode, side):\n",
    "    if side == \"left\":\n",
    "\n",
    "        fatherNode[\"left\"] = childNode\n",
    "    elif side == \"right\":\n",
    "        fatherNode[\"right\"] = childNode\n",
    "    else: \n",
    "        print(\"Invalid side\")\n",
    "\n",
    "def findNode(node, serachedNode):\n",
    "    if node == None:\n",
    "        return None\n",
    "    \n",
    "    if node [\"data\"] ==  serachedNode:\n",
    "        print('Node found')\n",
    "\n",
    "    if node [\"left\"] != None:\n",
    "            findNode(node['left'], serachedNode)\n",
    "\n",
    "    if node [\"right\"] != None:\n",
    "            findNode(node['right'], serachedNode)\n",
    "\n",
    "    return None\n",
    "\n",
    "#Busca em Largura\n",
    "def bfs(node, searchedNode):\n",
    "     if node == None:\n",
    "          return None\n",
    "     \n",
    "     fila = []\n",
    "     fila.append(node) #Inclui no final da array\n",
    "     while len(fila) > 0:\n",
    "        current = fila.pop(0)\n",
    "        if current['data'] == searchedNode:\n",
    "            print('Node found')\n",
    "\n",
    "            print(current['data'])\n",
    "\n",
    "            if current ['left'] != None:\n",
    "                fila.append(current['left'])\n",
    "    \n",
    "            if current ['right'] != None:\n",
    "                fila.append(current['right'])\n",
    "          \n",
    "          "
   ]
  }
 ],
 "metadata": {
  "kernelspec": {
   "display_name": "Python 3",
   "language": "python",
   "name": "python3"
  },
  "language_info": {
   "name": "python",
   "version": "3.12.5"
  }
 },
 "nbformat": 4,
 "nbformat_minor": 2
}
